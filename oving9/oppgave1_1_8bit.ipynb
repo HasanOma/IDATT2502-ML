{
 "cells": [
  {
   "cell_type": "code",
   "execution_count": 1,
   "id": "657762ca-7a02-4ce5-917b-a3f6eab9fc99",
   "metadata": {
    "execution": {
     "iopub.execute_input": "2022-10-24T21:21:34.289991Z",
     "iopub.status.busy": "2022-10-24T21:21:34.289324Z",
     "iopub.status.idle": "2022-10-24T21:21:35.435182Z",
     "shell.execute_reply": "2022-10-24T21:21:35.434355Z",
     "shell.execute_reply.started": "2022-10-24T21:21:34.289911Z"
    }
   },
   "outputs": [],
   "source": [
    "import math\n",
    "from dataclasses import dataclass\n",
    "import matplotlib.pyplot as plt\n",
    "import numpy as np"
   ]
  },
  {
   "cell_type": "code",
   "execution_count": 11,
   "id": "5bc4db2b-b1c1-41f5-a7b9-86f1a9167249",
   "metadata": {
    "execution": {
     "iopub.execute_input": "2022-10-24T22:00:17.232389Z",
     "iopub.status.busy": "2022-10-24T22:00:17.232067Z",
     "iopub.status.idle": "2022-10-24T22:00:17.248224Z",
     "shell.execute_reply": "2022-10-24T22:00:17.247427Z",
     "shell.execute_reply.started": "2022-10-24T22:00:17.232364Z"
    }
   },
   "outputs": [],
   "source": [
    "@dataclass\n",
    "class Gen:\n",
    "    fitness_best: int\n",
    "    fitness_avg: float\n",
    "\n",
    "    def __init__(self, best, avg):\n",
    "        self.fitness_best = best\n",
    "        self.fitness_avg = avg\n",
    "\n",
    "\n",
    "class Evolution():\n",
    "    def __init__(self, max = 256, size=10, base = 8):\n",
    "        self.size = size\n",
    "        self.max = max\n",
    "        self.base = base\n",
    "        self.generations = []\n",
    "        self.start_generation = np.random.randint(0, max, size=size)\n",
    "        self.generations.append(self.start_generation)\n",
    "        self.target = np.random.randint(0, max)\n",
    "\n",
    "        # Mutation method\n",
    "    def mutate(self, x: int):\n",
    "        start = np.random.randint(0, math.floor(self.base/2))\n",
    "        end = np.random.randint(start, math.floor(self.base))\n",
    "        parent_1 = str(bin(x))[2:]\n",
    "\n",
    "        if len(parent_1) != self.base:\n",
    "            for i in range(self.base-len(parent_1)):\n",
    "                parent_1 = '0' + parent_1\n",
    "\n",
    "        parent_1 = list(parent_1)\n",
    "        for i in range(start, end):\n",
    "            parent_1[i] = '1' if parent_1[i] == '0' else '0'\n",
    "\n",
    "        return int(''.join(parent_1), 2)\n",
    "\n",
    "        # Selected parent one and two makes child\n",
    "    def make_child(self, x, y):\n",
    "        random = np.random.randint(0, 2)\n",
    "        parent_1 = str(bin(x if random == 0 else y))[2:]\n",
    "        parent_2 = str(bin(x if random == 1 else y))[2:]\n",
    "        i = 0\n",
    "        if len(parent_1) % 2 == 0:\n",
    "            i = len(parent_1) / 2\n",
    "        else:\n",
    "            if self.fitness(x if random == 0 else y) > self.fitness(x if random == 1 else y):\n",
    "                i = math.ceil(len(parent_1) / 2)\n",
    "            else:\n",
    "                i = math.floor(len(parent_1) / 2)\n",
    "\n",
    "        i = int(i)\n",
    "        child = parent_1[:i]+parent_2[i:]\n",
    "        \n",
    "        return int(child, 2)\n",
    "    \n",
    "        # Selects the best parents to make a child\n",
    "    def get_new_combination(self, gen: zip):\n",
    "        new_gen = []\n",
    "        t = 0\n",
    "        best = 0\n",
    "        second = 0\n",
    "\n",
    "        for i in range(len(gen)):\n",
    "            if best > gen[i][0] > second != gen[i][1]:\n",
    "                second = gen[i][1]\n",
    "\n",
    "            if gen[i][0] > best != gen[i][1]:\n",
    "                second = best\n",
    "                best = gen[i][1]\n",
    "\n",
    "        for i in gen:\n",
    "            new_gen.append(self.make_child(i[1], best))\n",
    "            new_gen.append(self.make_child(i[1], second))\n",
    "\n",
    "        return new_gen\n",
    "    \n",
    "        # Makes continues\n",
    "    def get_new_generation(self, old_gen):\n",
    "        new_gen = self.get_new_combination(old_gen)\n",
    "\n",
    "        for i in np.random.randint(0, self.size, size=math.floor(self.size/2)):\n",
    "            new_gen[i] = self.mutate(new_gen[i])\n",
    "\n",
    "        return new_gen\n",
    "    \n",
    "        # Fitness function\n",
    "    def fitness(self, x: int):\n",
    "        return -np.abs(x - self.target)\n",
    "\n",
    "    def run(self):\n",
    "        i = 0\n",
    "        fs = []\n",
    "        while True:\n",
    "\n",
    "            fitness_list = [self.fitness(x) for x in self.generations[i]]\n",
    "            fs.append(fitness_list)\n",
    "            \n",
    "            gen = sorted(zip(fitness_list, self.generations[i]), reverse=True)[:(math.floor(self.size/2))]\n",
    "            if max(fitness_list) == 0:\n",
    "                # print(self.generations)\n",
    "                return [Gen(max(f), sum(f)/len(f)) for f in fs], self.generations\n",
    "\n",
    "            new_gen = self.get_new_generation(gen)\n",
    "            self.generations.append(new_gen)\n",
    "\n",
    "            i += 1"
   ]
  },
  {
   "cell_type": "code",
   "execution_count": 12,
   "id": "2c38f668-8622-47cf-b134-c82a315254a8",
   "metadata": {
    "execution": {
     "iopub.execute_input": "2022-10-24T22:00:21.647917Z",
     "iopub.status.busy": "2022-10-24T22:00:21.646904Z",
     "iopub.status.idle": "2022-10-24T22:00:21.673284Z",
     "shell.execute_reply": "2022-10-24T22:00:21.672374Z",
     "shell.execute_reply.started": "2022-10-24T22:00:21.647879Z"
    }
   },
   "outputs": [
    {
     "name": "stdout",
     "output_type": "stream",
     "text": [
      "Gen 0: \n",
      "[Gen(fitness_best=-11, fitness_avg=-85.4), Gen(fitness_best=-15, fitness_avg=-137.7), Gen(fitness_best=-15, fitness_avg=-105.4), Gen(fitness_best=-17, fitness_avg=-120.5), Gen(fitness_best=-21, fitness_avg=-127.9), Gen(fitness_best=-15, fitness_avg=-82.8), Gen(fitness_best=-15, fitness_avg=-68.1), Gen(fitness_best=-15, fitness_avg=-128.2), Gen(fitness_best=-20, fitness_avg=-146.9), Gen(fitness_best=-21, fitness_avg=-154.8), Gen(fitness_best=-11, fitness_avg=-135.2), Gen(fitness_best=-20, fitness_avg=-185.1), Gen(fitness_best=-20, fitness_avg=-142.2), Gen(fitness_best=-5, fitness_avg=-125.2), Gen(fitness_best=-4, fitness_avg=-148.8), Gen(fitness_best=-1, fitness_avg=-110.8), Gen(fitness_best=-4, fitness_avg=-147.7), Gen(fitness_best=-15, fitness_avg=-148.4), Gen(fitness_best=-15, fitness_avg=-127.2), Gen(fitness_best=-10, fitness_avg=-85.2), Gen(fitness_best=-9, fitness_avg=-121.8), Gen(fitness_best=-9, fitness_avg=-136.7), Gen(fitness_best=-13, fitness_avg=-114.7), Gen(fitness_best=-13, fitness_avg=-105.1), Gen(fitness_best=-13, fitness_avg=-113.0), Gen(fitness_best=-5, fitness_avg=-119.0), Gen(fitness_best=-5, fitness_avg=-148.7), Gen(fitness_best=-4, fitness_avg=-80.1), Gen(fitness_best=-4, fitness_avg=-86.7), Gen(fitness_best=-4, fitness_avg=-82.6), Gen(fitness_best=-4, fitness_avg=-58.8), Gen(fitness_best=-5, fitness_avg=-96.0), Gen(fitness_best=-5, fitness_avg=-100.4), Gen(fitness_best=-5, fitness_avg=-61.1), Gen(fitness_best=-1, fitness_avg=-75.4), Gen(fitness_best=-1, fitness_avg=-116.2), Gen(fitness_best=-1, fitness_avg=-91.0), Gen(fitness_best=-13, fitness_avg=-166.0), Gen(fitness_best=-13, fitness_avg=-124.8), Gen(fitness_best=-13, fitness_avg=-161.1), Gen(fitness_best=-9, fitness_avg=-166.5), Gen(fitness_best=-162, fitness_avg=-188.1), Gen(fitness_best=-165, fitness_avg=-202.9), Gen(fitness_best=-32, fitness_avg=-185.7), Gen(fitness_best=-7, fitness_avg=-126.7), Gen(fitness_best=-7, fitness_avg=-131.4), Gen(fitness_best=0, fitness_avg=-109.9)]\n"
     ]
    },
    {
     "ename": "NameError",
     "evalue": "name 'best' is not defined",
     "output_type": "error",
     "traceback": [
      "\u001b[0;31m---------------------------------------------------------------------------\u001b[0m",
      "\u001b[0;31mNameError\u001b[0m                                 Traceback (most recent call last)",
      "Input \u001b[0;32mIn [12]\u001b[0m, in \u001b[0;36m<cell line: 5>\u001b[0;34m()\u001b[0m\n\u001b[1;32m      6\u001b[0m \u001b[38;5;28mprint\u001b[39m(\u001b[38;5;124mf\u001b[39m\u001b[38;5;124m\"\u001b[39m\u001b[38;5;124mGen \u001b[39m\u001b[38;5;132;01m{\u001b[39;00mi\u001b[38;5;132;01m}\u001b[39;00m\u001b[38;5;124m: \u001b[39m\u001b[38;5;124m\"\u001b[39m)\n\u001b[1;32m      7\u001b[0m \u001b[38;5;28mprint\u001b[39m(gen)\n\u001b[0;32m----> 8\u001b[0m \u001b[38;5;28mprint\u001b[39m(\u001b[38;5;124mf\u001b[39m\u001b[38;5;124m\"\u001b[39m\u001b[38;5;124mBest Fitness: \u001b[39m\u001b[38;5;132;01m{\u001b[39;00mbest\u001b[38;5;132;01m}\u001b[39;00m\u001b[38;5;124m\"\u001b[39m)\n\u001b[1;32m      9\u001b[0m \u001b[38;5;28mprint\u001b[39m(\u001b[38;5;124mf\u001b[39m\u001b[38;5;124m\"\u001b[39m\u001b[38;5;124mAvg Fitness: \u001b[39m\u001b[38;5;132;01m{\u001b[39;00mavg\u001b[38;5;132;01m}\u001b[39;00m\u001b[38;5;124m\"\u001b[39m)\n\u001b[1;32m     10\u001b[0m \u001b[38;5;28mprint\u001b[39m(\u001b[38;5;124m\"\u001b[39m\u001b[38;5;124m\"\u001b[39m)\n",
      "\u001b[0;31mNameError\u001b[0m: name 'best' is not defined"
     ]
    }
   ],
   "source": [
    "evo = Evolution()\n",
    "\n",
    "gen, gens = evo.run()\n",
    "\n",
    "for i in range(len(gens)):\n",
    "    print(f\"Gen {i}: \")\n",
    "    print(gen)\n",
    "    print(f\"Best Fitness: {best}\")\n",
    "    print(f\"Avg Fitness: {avg}\")\n",
    "    print(\"\")\n",
    "\n",
    "print(f\"Target: {evo.target}\")"
   ]
  }
 ],
 "metadata": {
  "kernelspec": {
   "display_name": "Python 3 (ipykernel)",
   "language": "python",
   "name": "python3"
  },
  "language_info": {
   "codemirror_mode": {
    "name": "ipython",
    "version": 3
   },
   "file_extension": ".py",
   "mimetype": "text/x-python",
   "name": "python",
   "nbconvert_exporter": "python",
   "pygments_lexer": "ipython3",
   "version": "3.9.13"
  }
 },
 "nbformat": 4,
 "nbformat_minor": 5
}
