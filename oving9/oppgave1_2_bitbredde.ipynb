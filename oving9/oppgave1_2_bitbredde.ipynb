{
 "cells": [
  {
   "cell_type": "code",
   "execution_count": 14,
   "id": "2b5c7945-b78f-4890-b384-124d656eef00",
   "metadata": {
    "execution": {
     "iopub.execute_input": "2022-10-24T22:15:16.169553Z",
     "iopub.status.busy": "2022-10-24T22:15:16.168855Z",
     "iopub.status.idle": "2022-10-24T22:15:16.173099Z",
     "shell.execute_reply": "2022-10-24T22:15:16.172498Z",
     "shell.execute_reply.started": "2022-10-24T22:15:16.169523Z"
    }
   },
   "outputs": [],
   "source": [
    "import math\n",
    "import timeit\n",
    "from dataclasses import dataclass\n",
    "import matplotlib.pyplot as plt\n",
    "import numpy as np"
   ]
  },
  {
   "cell_type": "code",
   "execution_count": 27,
   "id": "3c5628f5-5e0a-4d53-93a3-3c74368c2d1e",
   "metadata": {
    "execution": {
     "iopub.execute_input": "2022-10-24T22:24:19.139753Z",
     "iopub.status.busy": "2022-10-24T22:24:19.138916Z",
     "iopub.status.idle": "2022-10-24T22:24:19.154255Z",
     "shell.execute_reply": "2022-10-24T22:24:19.153671Z",
     "shell.execute_reply.started": "2022-10-24T22:24:19.139722Z"
    }
   },
   "outputs": [],
   "source": [
    "@dataclass\n",
    "class Gen:\n",
    "    fitness_best: int\n",
    "    fitness_avg: float\n",
    "\n",
    "    def __init__(self, best, avg):\n",
    "        self.fitness_best = best\n",
    "        self.fitness_avg = avg\n",
    "\n",
    "\n",
    "class Evolution():\n",
    "    def __init__(self, max, size, base):\n",
    "        self.size = size\n",
    "        self.max = max\n",
    "        self.base = base\n",
    "        self.generations = []\n",
    "        self.start_generation = np.random.randint(0, max, size=size)\n",
    "        self.generations.append(self.start_generation)\n",
    "        self.target = np.random.randint(0, max)\n",
    "\n",
    "        # Mutation method\n",
    "    def mutate(self, x: int):\n",
    "        start = np.random.randint(0, math.floor(self.base/2))\n",
    "        end = np.random.randint(start, math.floor(self.base))\n",
    "        parent_1 = str(bin(x))[2:]\n",
    "\n",
    "        if len(parent_1) != self.base:\n",
    "            for i in range(self.base-len(parent_1)):\n",
    "                parent_1 = '0' + parent_1\n",
    "\n",
    "        parent_1 = list(parent_1)\n",
    "        for i in range(start, end):\n",
    "            parent_1[i] = '1' if parent_1[i] == '0' else '0'\n",
    "\n",
    "        return int(''.join(parent_1), 2)\n",
    "\n",
    "        # Selected parent one and two makes child\n",
    "    def make_child(self, x, y):\n",
    "        random = np.random.randint(0, 2)\n",
    "        parent_1 = str(bin(x if random == 0 else y))[2:]\n",
    "        parent_2 = str(bin(x if random == 1 else y))[2:]\n",
    "        i = 0\n",
    "        if len(parent_1) % 2 == 0:\n",
    "            i = len(parent_1) / 2\n",
    "        else:\n",
    "            if self.fitness(x if random == 0 else y) > self.fitness(x if random == 1 else y):\n",
    "                i = math.ceil(len(parent_1) / 2)\n",
    "            else:\n",
    "                i = math.floor(len(parent_1) / 2)\n",
    "\n",
    "        i = int(i)\n",
    "        child = parent_1[:i]+parent_2[i:]\n",
    "        \n",
    "        return int(child, 2)\n",
    "    \n",
    "        # Selects the best parents to make a child\n",
    "    def get_new_combination(self, gen: zip):\n",
    "        new_gen = []\n",
    "        t = 0\n",
    "        best = 0\n",
    "        second = 0\n",
    "\n",
    "        for i in range(len(gen)):\n",
    "            if best > gen[i][0] > second != gen[i][1]:\n",
    "                second = gen[i][1]\n",
    "\n",
    "            if gen[i][0] > best != gen[i][1]:\n",
    "                second = best\n",
    "                best = gen[i][1]\n",
    "\n",
    "        for i in gen:\n",
    "            new_gen.append(self.make_child(i[1], best))\n",
    "            new_gen.append(self.make_child(i[1], second))\n",
    "\n",
    "        return new_gen\n",
    "    \n",
    "        # Makes continues\n",
    "    def get_new_generation(self, old_gen):\n",
    "        new_gen = self.get_new_combination(old_gen)\n",
    "\n",
    "        for i in np.random.randint(0, self.size, size=math.floor(self.size/2)):\n",
    "            new_gen[i] = self.mutate(new_gen[i])\n",
    "\n",
    "        return new_gen\n",
    "    \n",
    "        # Fitness function\n",
    "    def fitness(self, x: int):\n",
    "        return -np.abs(x - self.target)\n",
    "\n",
    "        # Runtime \n",
    "    def run_time(self):\n",
    "        i = 0\n",
    "        sts = []\n",
    "\n",
    "        for t in range(20):\n",
    "            start = timeit.default_timer()\n",
    "            while True:\n",
    "\n",
    "                fitness_list = [self.fitness(x) for x in self.generations[i]]\n",
    "                \n",
    "                gen = sorted(zip(fitness_list, self.generations[i]), reverse=True)[:(math.floor(self.size/2))]\n",
    "                if max(fitness_list) == 0:\n",
    "                    stop = timeit.default_timer()\n",
    "                    sts.append(stop-start)\n",
    "                    break\n",
    "                    \n",
    "                new_gen = self.get_new_generation(gen)\n",
    "                self.generations.append(new_gen)\n",
    "\n",
    "                i += 1\n",
    "\n",
    "        return sum(sts)/len(sts)"
   ]
  },
  {
   "cell_type": "code",
   "execution_count": 29,
   "id": "86339482-c987-45a4-a23b-9b17b5b83307",
   "metadata": {
    "execution": {
     "iopub.execute_input": "2022-10-24T22:24:30.663708Z",
     "iopub.status.busy": "2022-10-24T22:24:30.663033Z",
     "iopub.status.idle": "2022-10-24T22:24:38.995823Z",
     "shell.execute_reply": "2022-10-24T22:24:38.992731Z",
     "shell.execute_reply.started": "2022-10-24T22:24:30.663678Z"
    }
   },
   "outputs": [
    {
     "data": {
      "image/png": "[encoded data removed]",
      "text/plain": [
       "<Figure size 432x288 with 1 Axes>"
      ]
     },
     "metadata": {
      "needs_background": "light"
     },
     "output_type": "display_data"
    }
   ],
   "source": [
    "n = np.arange(8, 18)\n",
    "time  = []\n",
    "\n",
    "for i in range(8, 18):\n",
    "    evo = Evolution(2**i, 20, i)\n",
    "    time.append(evo.run_time())\n",
    "    # print(f\"Done with: {2**i}\")\n",
    "    # print(f\"Target: {evo.target}\")\n",
    "plt.xlabel(\"Bit length\")\n",
    "plt.ylabel(\"Seconds\")\n",
    "plt.plot(n, time)\n",
    "plt.show()"
   ]
  }
 ],
 "metadata": {
  "kernelspec": {
   "display_name": "Python 3 (ipykernel)",
   "language": "python",
   "name": "python3"
  },
  "language_info": {
   "codemirror_mode": {
    "name": "ipython",
    "version": 3
   },
   "file_extension": ".py",
   "mimetype": "text/x-python",
   "name": "python",
   "nbconvert_exporter": "python",
   "pygments_lexer": "ipython3",
   "version": "3.9.13"
  }
 },
 "nbformat": 4,
 "nbformat_minor": 5
}
