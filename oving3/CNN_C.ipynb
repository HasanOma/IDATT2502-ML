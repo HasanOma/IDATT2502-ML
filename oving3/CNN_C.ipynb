{
 "cells": [
  {
   "cell_type": "code",
   "execution_count": 1,
   "id": "b494a3d7-0165-4471-90c7-7a0fe5873fe0",
   "metadata": {
    "tags": []
   },
   "outputs": [],
   "source": [
    "import torch\n",
    "import torch.nn as nn\n",
    "import torchvision\n",
    "\n",
    "device = torch.device(\"cuda\")\n",
    "\n",
    "# Load observations from the mnist dataset. The observations are divided into a training set and a test set\n",
    "mnist_train = torchvision.datasets.MNIST('./data', train=True, download=True)\n",
    "train_x = mnist_train.data.reshape(-1, 1, 28, 28).float()  # torch.functional.nn.conv2d argument must include channels (1)\n",
    "train_y = torch.zeros((mnist_train.targets.shape[0], 10))  # Create output tensor\n",
    "train_y[torch.arange(mnist_train.targets.shape[0]), mnist_train.targets] = 1  # Populate output\n",
    "\n",
    "mnist_test = torchvision.datasets.MNIST('./data', train=False, download=True)\n",
    "test_x = mnist_test.data.reshape(-1, 1, 28, 28).float()  # torch.functional.nn.conv2d argument must include channels (1)\n",
    "test_y = torch.zeros((mnist_test.targets.shape[0], 10))  # Create output tensor\n",
    "test_y[torch.arange(mnist_test.targets.shape[0]), mnist_test.targets] = 1  # Populate output\n",
    "\n",
    "# Normalization of inputs\n",
    "mean = train_x.mean()\n",
    "std = train_x.std()\n",
    "train_x = (train_x - mean) / std\n",
    "test_x = (test_x - mean) / std\n",
    "\n",
    "# Divide training data into batches to speed up optimization\n",
    "batches = 600\n",
    "x_train_batches = torch.split(train_x, batches)\n",
    "y_train_batches = torch.split(train_y, batches)"
   ]
  },
  {
   "cell_type": "code",
   "execution_count": 2,
   "id": "3cae8ab2-6619-4430-b02a-65e51da29ca1",
   "metadata": {
    "tags": []
   },
   "outputs": [],
   "source": [
    "class CNNModel(nn.Module):\n",
    "    def __init__(self):\n",
    "        super(CNNModel, self).__init__()\n",
    "\n",
    "        self.logits = nn.Sequential(\n",
    "            nn.Conv2d(1, 32, kernel_size=5, padding=2), \n",
    "            nn.ReLU(),\n",
    "            nn.MaxPool2d(kernel_size=2), \n",
    "            nn.Conv2d(32, 64, kernel_size=5, padding=2),\n",
    "            nn.ReLU(),\n",
    "            nn.MaxPool2d(kernel_size=2), \n",
    "            nn.Flatten(),\n",
    "            nn.Linear(64 * 7 * 7, 1024),\n",
    "            nn.Flatten(),\n",
    "            nn.Linear(1024, 10)).to(device)\n",
    "\n",
    "    # Predictor\n",
    "    def f(self, x):\n",
    "        return torch.softmax(self.logits(x), dim=1)\n",
    "\n",
    "    # Cross Entropy loss\n",
    "    def loss(self, x, y):\n",
    "        return nn.functional.cross_entropy(self.logits(x), y.argmax(1)).to(device)\n",
    "\n",
    "    # Accuracy\n",
    "    def accuracy(self, x, y):\n",
    "        return torch.mean(torch.eq(self.f(x).argmax(1), y.argmax(1)).float()).to(device)"
   ]
  },
  {
   "cell_type": "code",
   "execution_count": 3,
   "id": "02e67361-c6c4-440e-b38a-5472c4e7200e",
   "metadata": {
    "tags": []
   },
   "outputs": [
    {
     "name": "stdout",
     "output_type": "stream",
     "text": [
      "accuracy = tensor(0.9806, device='cuda:0')\n",
      "accuracy = tensor(0.9861, device='cuda:0')\n",
      "accuracy = tensor(0.9874, device='cuda:0')\n",
      "accuracy = tensor(0.9883, device='cuda:0')\n",
      "accuracy = tensor(0.9862, device='cuda:0')\n",
      "accuracy = tensor(0.9840, device='cuda:0')\n",
      "accuracy = tensor(0.9879, device='cuda:0')\n",
      "accuracy = tensor(0.9878, device='cuda:0')\n",
      "accuracy = tensor(0.9887, device='cuda:0')\n",
      "accuracy = tensor(0.9832, device='cuda:0')\n",
      "accuracy = tensor(0.9863, device='cuda:0')\n",
      "accuracy = tensor(0.9866, device='cuda:0')\n",
      "accuracy = tensor(0.9848, device='cuda:0')\n",
      "accuracy = tensor(0.9866, device='cuda:0')\n",
      "accuracy = tensor(0.9836, device='cuda:0')\n",
      "accuracy = tensor(0.9873, device='cuda:0')\n",
      "accuracy = tensor(0.9892, device='cuda:0')\n",
      "accuracy = tensor(0.9899, device='cuda:0')\n",
      "accuracy = tensor(0.9918, device='cuda:0')\n",
      "accuracy = tensor(0.9905, device='cuda:0')\n"
     ]
    }
   ],
   "source": [
    "model = CNNModel()\n",
    "\n",
    "# Optimize: adjust W and b to minimize loss using stochastic gradient descent\n",
    "optimizer = torch.optim.Adam(model.parameters(), 0.001)\n",
    "for epoch in range(20):\n",
    "    for batch in range(len(x_train_batches)):\n",
    "        model.loss(x_train_batches[batch].to(device), y_train_batches[batch].to(device)).backward()  # Compute loss gradients\n",
    "        optimizer.step()  # Perform optimization by adjusting W and b,\n",
    "        optimizer.zero_grad()  # Clear gradients for next step\n",
    "\n",
    "    print(\"accuracy = %s\" % model.accuracy(test_x.to(device), test_y.to(device))) "
   ]
  },
  {
   "cell_type": "code",
   "execution_count": null,
   "id": "b53c9b91-e70b-42fa-8b6c-337671783e13",
   "metadata": {},
   "outputs": [],
   "source": []
  }
 ],
 "metadata": {
  "kernelspec": {
   "display_name": "Python 3 (ipykernel)",
   "language": "python",
   "name": "python3"
  },
  "language_info": {
   "codemirror_mode": {
    "name": "ipython",
    "version": 3
   },
   "file_extension": ".py",
   "mimetype": "text/x-python",
   "name": "python",
   "nbconvert_exporter": "python",
   "pygments_lexer": "ipython3",
   "version": "3.9.13"
  }
 },
 "nbformat": 4,
 "nbformat_minor": 5
}
