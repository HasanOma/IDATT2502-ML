{
 "cells": [
  {
   "cell_type": "code",
   "execution_count": 1,
   "id": "2237d6e8-2da2-4550-9e46-4af3ec48d2df",
   "metadata": {
    "tags": []
   },
   "outputs": [],
   "source": [
    "import torch\n",
    "import torch.nn as nn\n",
    "import torchvision\n",
    "\n",
    "device = torch.device(\"cuda\")\n",
    "\n",
    "mnist_train = torchvision.datasets.MNIST('./data', train=True, download=True)\n",
    "train_x = mnist_train.data.reshape(-1, 1, 28, 28).float() \n",
    "train_y = torch.zeros((mnist_train.targets.shape[0], 10))  \n",
    "train_y[torch.arange(mnist_train.targets.shape[0]), mnist_train.targets] = 1 \n",
    "\n",
    "mnist_test = torchvision.datasets.MNIST('./data', train=False, download=True)\n",
    "test_x = mnist_test.data.reshape(-1, 1, 28, 28).float() \n",
    "test_y = torch.zeros((mnist_test.targets.shape[0], 10))  \n",
    "test_y[torch.arange(mnist_test.targets.shape[0]), mnist_test.targets] = 1  \n",
    "\n",
    "mean = train_x.mean()\n",
    "std = train_x.std()\n",
    "train_x = (train_x - mean) / std \n",
    "test_x = (test_x - mean) / std\n",
    "\n",
    "batches = 600\n",
    "x_train_batches = torch.split(train_x, batches)\n",
    "y_train_batches = torch.split(train_y, batches)"
   ]
  },
  {
   "cell_type": "code",
   "execution_count": 2,
   "id": "0e662d45-6950-45f6-a8b8-699aca385d26",
   "metadata": {
    "tags": []
   },
   "outputs": [],
   "source": [
    "class CNNModel(nn.Module):\n",
    "    def __init__(self):\n",
    "        super(CNNModel, self).__init__()\n",
    "\n",
    "        self.logits = nn.Sequential(\n",
    "            nn.Conv2d(1, 32, kernel_size=5, padding=2), \n",
    "            nn.MaxPool2d(kernel_size=2), \n",
    "            nn.Conv2d(32, 64, kernel_size=5, padding=2),\n",
    "            nn.MaxPool2d(kernel_size=2), \n",
    "            nn.Flatten(), \n",
    "            nn.Linear(64 * 7 * 7, 1024),\n",
    "            nn.Flatten(), \n",
    "            nn.Linear(1024, 10)).to(device)\n",
    "\n",
    "    def f(self, x):\n",
    "        return torch.softmax(self.logits(x), dim=1)\n",
    "\n",
    "    def loss(self, x, y):\n",
    "        return nn.functional.cross_entropy(self.logits(x), y.argmax(1)).to(device)\n",
    "\n",
    "    def accuracy(self, x, y):\n",
    "        return torch.mean(torch.eq(self.f(x).argmax(1), y.argmax(1)).float()).to(device)"
   ]
  },
  {
   "cell_type": "code",
   "execution_count": 3,
   "id": "13062340-b5e3-4cad-9ce7-655827548c24",
   "metadata": {
    "tags": []
   },
   "outputs": [
    {
     "name": "stdout",
     "output_type": "stream",
     "text": [
      "accuracy = tensor(0.9405, device='cuda:0')\n",
      "accuracy = tensor(0.9644, device='cuda:0')\n",
      "accuracy = tensor(0.9736, device='cuda:0')\n",
      "accuracy = tensor(0.9785, device='cuda:0')\n",
      "accuracy = tensor(0.9814, device='cuda:0')\n",
      "accuracy = tensor(0.9836, device='cuda:0')\n",
      "accuracy = tensor(0.9842, device='cuda:0')\n",
      "accuracy = tensor(0.9844, device='cuda:0')\n",
      "accuracy = tensor(0.9853, device='cuda:0')\n",
      "accuracy = tensor(0.9853, device='cuda:0')\n"
     ]
    }
   ],
   "source": [
    "model = CNNModel()\n",
    "\n",
    "optimizer = torch.optim.Adam(model.parameters(), 0.0001)\n",
    "for epoch in range(10):\n",
    "    for batch in range(len(x_train_batches)):\n",
    "        model.loss(x_train_batches[batch].to(device), y_train_batches[batch].to(device)).backward() \n",
    "        optimizer.step()  \n",
    "        optimizer.zero_grad()  \n",
    "\n",
    "    print(\"accuracy = %s\" % model.accuracy(test_x.to(device), test_y.to(device))) "
   ]
  },
  {
   "cell_type": "code",
   "execution_count": null,
   "id": "50534180-43c2-486f-aaa4-36b8172bb0ae",
   "metadata": {},
   "outputs": [],
   "source": []
  }
 ],
 "metadata": {
  "kernelspec": {
   "display_name": "Python 3 (ipykernel)",
   "language": "python",
   "name": "python3"
  },
  "language_info": {
   "codemirror_mode": {
    "name": "ipython",
    "version": 3
   },
   "file_extension": ".py",
   "mimetype": "text/x-python",
   "name": "python",
   "nbconvert_exporter": "python",
   "pygments_lexer": "ipython3",
   "version": "3.9.13"
  }
 },
 "nbformat": 4,
 "nbformat_minor": 5
}
