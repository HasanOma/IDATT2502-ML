{
 "cells": [
  {
   "cell_type": "code",
   "execution_count": 4,
   "id": "b6bf2768-8412-45ac-a73f-7715477b3b30",
   "metadata": {
    "tags": []
   },
   "outputs": [],
   "source": [
    "import torch\n",
    "import torch.nn as nn\n",
    "import torchvision\n",
    "\n",
    "device = torch.device(\"cuda\")\n",
    "\n",
    "# Load observations from the mnist dataset. The observations are divided into a training set and a test set\n",
    "mnist_train = torchvision.datasets.MNIST('./data/fashion', train=True, download=True)\n",
    "train_x = mnist_train.data.reshape(-1, 1, 28, 28).float()  # torch.functional.nn.conv2d argument must include channels (1)\n",
    "train_y = torch.zeros((mnist_train.targets.shape[0], 10))  # Create output tensor\n",
    "train_y[torch.arange(mnist_train.targets.shape[0]), mnist_train.targets] = 1  # Populate output\n",
    "\n",
    "mnist_test = torchvision.datasets.MNIST('./data/fashion', train=False, download=True)\n",
    "test_x = mnist_test.data.reshape(-1, 1, 28, 28).float()  # torch.functional.nn.conv2d argument must include channels (1)\n",
    "test_y = torch.zeros((mnist_test.targets.shape[0], 10))  # Create output tensor\n",
    "test_y[torch.arange(mnist_test.targets.shape[0]), mnist_test.targets] = 1  # Populate output\n",
    "\n",
    "# Normalization of inputs\n",
    "mean = train_x.mean()\n",
    "std = train_x.std()\n",
    "train_x = (train_x - mean) / std\n",
    "test_x = (test_x - mean) / std\n",
    "\n",
    "# Divide training data into batches to speed up optimization\n",
    "batches = 600\n",
    "x_train_batches = torch.split(train_x, batches)\n",
    "y_train_batches = torch.split(train_y, batches)"
   ]
  },
  {
   "cell_type": "code",
   "execution_count": 6,
   "id": "7c814f38-7018-4410-b1a3-43a43db1eecb",
   "metadata": {
    "tags": []
   },
   "outputs": [],
   "source": [
    "class CNNModel(nn.Module):\n",
    "    def __init__(self):\n",
    "        super(CNNModel, self).__init__()\n",
    "\n",
    "        self.logits = nn.Sequential(\n",
    "            nn.Conv2d(1, 32, kernel_size=5, padding=2), \n",
    "            nn.MaxPool2d(kernel_size=2), \n",
    "            nn.ReLU(),\n",
    "            nn.Conv2d(32, 64, kernel_size=5, padding=2),\n",
    "            nn.MaxPool2d(kernel_size=2), \n",
    "            nn.Flatten(),\n",
    "            nn.ReLU(),\n",
    "            nn.Linear(64 * 7 * 7, 1024),\n",
    "            nn.Flatten(),\n",
    "            nn.ReLU(),\n",
    "            nn.Linear(1024, 10)).to(device)\n",
    "\n",
    "    # Predictor\n",
    "    def f(self, x):\n",
    "        return torch.softmax(self.logits(x), dim=1)\n",
    "\n",
    "    # Cross Entropy loss\n",
    "    def loss(self, x, y):\n",
    "        return nn.functional.cross_entropy(self.logits(x), y.argmax(1)).to(device)\n",
    "\n",
    "    # Accuracy\n",
    "    def accuracy(self, x, y):\n",
    "        return torch.mean(torch.eq(self.f(x).argmax(1), y.argmax(1)).float()).to(device)"
   ]
  },
  {
   "cell_type": "code",
   "execution_count": 7,
   "id": "eeff5020-337d-464b-accf-bbd33f5dc235",
   "metadata": {
    "tags": []
   },
   "outputs": [
    {
     "name": "stdout",
     "output_type": "stream",
     "text": [
      "accuracy = tensor(0.9819, device='cuda:0')\n",
      "accuracy = tensor(0.9856, device='cuda:0')\n",
      "accuracy = tensor(0.9869, device='cuda:0')\n",
      "accuracy = tensor(0.9873, device='cuda:0')\n",
      "accuracy = tensor(0.9882, device='cuda:0')\n",
      "accuracy = tensor(0.9862, device='cuda:0')\n",
      "accuracy = tensor(0.9884, device='cuda:0')\n",
      "accuracy = tensor(0.9907, device='cuda:0')\n",
      "accuracy = tensor(0.9913, device='cuda:0')\n",
      "accuracy = tensor(0.9894, device='cuda:0')\n"
     ]
    }
   ],
   "source": [
    "model = CNNModel().to(device)\n",
    "\n",
    "# Optimize: adjust W and b to minimize loss using stochastic gradient descent\n",
    "optimizer = torch.optim.Adam(model.parameters(), 0.001)\n",
    "for epoch in range(10):\n",
    "    for batch in range(len(x_train_batches)):\n",
    "        model.loss(x_train_batches[batch].to(device), y_train_batches[batch].to(device)).backward()  # Compute loss gradients\n",
    "        optimizer.step()  # Perform optimization by adjusting W and b,\n",
    "        optimizer.zero_grad()  # Clear gradients for next step\n",
    "\n",
    "    print(\"accuracy = %s\" % model.accuracy(test_x.to(device), test_y.to(device))) "
   ]
  },
  {
   "cell_type": "code",
   "execution_count": null,
   "id": "d3ae2327-f6ae-42b4-9047-cc6ae253a32c",
   "metadata": {},
   "outputs": [],
   "source": []
  }
 ],
 "metadata": {
  "kernelspec": {
   "display_name": "Python 3 (ipykernel)",
   "language": "python",
   "name": "python3"
  },
  "language_info": {
   "codemirror_mode": {
    "name": "ipython",
    "version": 3
   },
   "file_extension": ".py",
   "mimetype": "text/x-python",
   "name": "python",
   "nbconvert_exporter": "python",
   "pygments_lexer": "ipython3",
   "version": "3.9.13"
  }
 },
 "nbformat": 4,
 "nbformat_minor": 5
}
