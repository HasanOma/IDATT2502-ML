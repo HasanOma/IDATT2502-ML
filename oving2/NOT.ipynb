{
 "cells": [
  {
   "cell_type": "code",
   "execution_count": 9,
   "id": "def0c120-1a09-40be-a90e-ec84c1df2640",
   "metadata": {
    "execution": {
     "iopub.execute_input": "2022-09-05T17:04:39.497687Z",
     "iopub.status.busy": "2022-09-05T17:04:39.496938Z",
     "iopub.status.idle": "2022-09-05T17:04:39.502266Z",
     "shell.execute_reply": "2022-09-05T17:04:39.501544Z",
     "shell.execute_reply.started": "2022-09-05T17:04:39.497653Z"
    }
   },
   "outputs": [],
   "source": [
    "import torch\n",
    "import pandas as pd\n",
    "import matplotlib.pyplot as plt\n",
    "import numpy as np\n",
    "\n",
    "train_x = torch.tensor([[1.0], [0.0]]).reshape(-1,1)\n",
    "train_y = torch.tensor([[0.0], [1.0]]).reshape(-1,1)"
   ]
  },
  {
   "cell_type": "code",
   "execution_count": 10,
   "id": "6e6c33e4-c9c1-4129-be9c-55d31638fb5d",
   "metadata": {
    "execution": {
     "iopub.execute_input": "2022-09-05T17:04:40.806125Z",
     "iopub.status.busy": "2022-09-05T17:04:40.805448Z",
     "iopub.status.idle": "2022-09-05T17:04:40.810334Z",
     "shell.execute_reply": "2022-09-05T17:04:40.809607Z",
     "shell.execute_reply.started": "2022-09-05T17:04:40.806062Z"
    }
   },
   "outputs": [],
   "source": [
    "class NOTOperatorModel:\n",
    "    def __init__(self):\n",
    "        self.W = torch.rand((1,1), requires_grad=True)\n",
    "        self.b = torch.rand((1,1), requires_grad=True)\n",
    "    # Predictor\n",
    "    def f(self, x):\n",
    "        return torch.sigmoid(x @ self.W + self.b)\n",
    "\n",
    "    def loss(self, x, y):\n",
    "        return torch.nn.functional.binary_cross_entropy_with_logits(x @ self.W + self.b,y)"
   ]
  },
  {
   "cell_type": "code",
   "execution_count": 11,
   "id": "a987b8cc-a9d1-4d2a-9127-98e5050f8a2d",
   "metadata": {
    "execution": {
     "iopub.execute_input": "2022-09-05T17:04:44.410806Z",
     "iopub.status.busy": "2022-09-05T17:04:44.409901Z",
     "iopub.status.idle": "2022-09-05T17:05:26.484085Z",
     "shell.execute_reply": "2022-09-05T17:05:26.483352Z",
     "shell.execute_reply.started": "2022-09-05T17:04:44.410781Z"
    }
   },
   "outputs": [
    {
     "name": "stdout",
     "output_type": "stream",
     "text": [
      "W = tensor([[-17.4452]], requires_grad=True), b = tensor([[8.5198]], requires_grad=True), loss = tensor(0.0002, grad_fn=<BinaryCrossEntropyWithLogitsBackward0>)\n"
     ]
    }
   ],
   "source": [
    "model = NOTOperatorModel()\n",
    "\n",
    "optimizer = torch.optim.SGD([model.b, model.W], lr=0.1)\n",
    "for epoch in range(300000):\n",
    "    model.loss(train_x, train_y).backward() \n",
    "    optimizer.step() \n",
    "    optimizer.zero_grad()  \n",
    "\n",
    "print(\"W = %s, b = %s, loss = %s\" %(model.W, model.b, model.loss(train_x, train_y)))"
   ]
  },
  {
   "cell_type": "code",
   "execution_count": 12,
   "id": "850cd482-66f1-40be-ae6f-c4e052e665ef",
   "metadata": {
    "execution": {
     "iopub.execute_input": "2022-09-05T17:05:26.485751Z",
     "iopub.status.busy": "2022-09-05T17:05:26.485226Z",
     "iopub.status.idle": "2022-09-05T17:05:26.601159Z",
     "shell.execute_reply": "2022-09-05T17:05:26.600357Z",
     "shell.execute_reply.started": "2022-09-05T17:05:26.485727Z"
    }
   },
   "outputs": [
    {
     "data": {
      "image/png": "[encoded data removed]",
      "text/plain": [
       "<Figure size 432x288 with 1 Axes>"
      ]
     },
     "metadata": {
      "needs_background": "light"
     },
     "output_type": "display_data"
    }
   ],
   "source": [
    "plt.plot(train_x, train_y, 'o', label='$(x^{(i)},y^{(i)})$')\n",
    "plt.xlabel('x')\n",
    "plt.ylabel('y')\n",
    "x = torch.arange(0.0,1.0, 0.01).reshape(-1,1)\n",
    "plt.plot(x, model.f(x).detach(), label='$\\\\hat y = f(x) = \\sigma(xW + b)$')\n",
    "plt.legend()\n",
    "plt.show()"
   ]
  },
  {
   "cell_type": "code",
   "execution_count": null,
   "id": "c58d5dd2-14ed-425f-883f-04ad16a5ffd1",
   "metadata": {},
   "outputs": [],
   "source": []
  }
 ],
 "metadata": {
  "kernelspec": {
   "display_name": "Python 3 (ipykernel)",
   "language": "python",
   "name": "python3"
  },
  "language_info": {
   "codemirror_mode": {
    "name": "ipython",
    "version": 3
   },
   "file_extension": ".py",
   "mimetype": "text/x-python",
   "name": "python",
   "nbconvert_exporter": "python",
   "pygments_lexer": "ipython3",
   "version": "3.9.13"
  }
 },
 "nbformat": 4,
 "nbformat_minor": 5
}
