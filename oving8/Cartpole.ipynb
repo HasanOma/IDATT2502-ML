{
 "cells": [
  {
   "cell_type": "code",
   "execution_count": null,
   "id": "b8c41afd-2e94-42c1-b343-e8fc5004f205",
   "metadata": {},
   "outputs": [],
   "source": [
    "# Took inspiration from https://www.youtube.com/watch?v=yVYBSvbOWu4&ab_channel=ECSLLab"
   ]
  },
  {
   "cell_type": "code",
   "execution_count": 136,
   "id": "6a2f9e45-3239-4fb6-bdd8-7ba36b70ae1a",
   "metadata": {},
   "outputs": [],
   "source": [
    "# Cartpole Q-Learning\n",
    "import gym                                          # Environment framework\n",
    "from math import radians, log10                     # Two math functions\n",
    "import numpy as np                                  # Advanced math + syntactic sugar\n",
    "from pandas import Series                           # To make one piece of math easier\n",
    "from sklearn.preprocessing import KBinsDiscretizer  # Discretization made easy\n",
    "import matplotlib.pyplot as plt                     # Graph generation\n",
    "import cv2                                          # Video export code\n",
    "import time                                         # Stopwatch for training time"
   ]
  },
  {
   "cell_type": "code",
   "execution_count": 137,
   "id": "8881df11-f5db-4cc6-b6b4-a689ce9446ad",
   "metadata": {},
   "outputs": [],
   "source": [
    "# Control Panel\n",
    "SEED = 100\n",
    "n_episodes = 1001               # Number of total attempts\n",
    "capture_interval = 500          # Export a video every N iterations\n",
    "reward_update_interval = 100    # (debug) print out total reward for every Nth iteration\n",
    "export_fps = 30                 # frames per second of video export\n",
    " \n",
    "learning_coeff = 150            # Large values -> Slower decay of willingness to learn/explore\n",
    "exploration_coeff = 150         # You'll need to tweak both of these until you get good learning"
   ]
  },
  {
   "cell_type": "code",
   "execution_count": 138,
   "id": "ed2794f0-3748-453f-b6dd-577c0419f8a4",
   "metadata": {},
   "outputs": [
    {
     "data": {
      "text/plain": [
       "(array([ 0.03349816,  0.0096554 , -0.02111368, -0.04570484], dtype=float32),\n",
       " {})"
      ]
     },
     "execution_count": 138,
     "metadata": {},
     "output_type": "execute_result"
    }
   ],
   "source": [
    "# Setup\n",
    "# Initialize environment\n",
    "env = gym.make(\"CartPole-v1\", render_mode='rgb_array')  # 'human' render mode takes too long\n",
    "env.action_space.seed(SEED)                             # Initialize PRNG for gym\n",
    "np.random.seed(SEED)                                    # For exploration reproducibility\n",
    "env.reset(seed=SEED)                                    # And for the environment (must ONLY be passed ONCE)"
   ]
  },
  {
   "cell_type": "code",
   "execution_count": 139,
   "id": "19427ba9-dd78-4f07-8451-de364ad292d1",
   "metadata": {},
   "outputs": [],
   "source": [
    "# Initialize reward statistics for graphing later\n",
    "graph_x = np.arange(n_episodes)\n",
    "graph_y = np.zeros(n_episodes)"
   ]
  },
  {
   "cell_type": "code",
   "execution_count": 140,
   "id": "aaeb9e81-0b89-4b4e-a6ce-00727cba6c9c",
   "metadata": {},
   "outputs": [],
   "source": [
    "# Bin size configuration\n",
    "n_bins = (12, 6, 12, 6)   # This number requires tweaking from task to task\n",
    "lower_bounds = [env.observation_space.low[0], -0.25,            # Manual values are specified for parts of the\n",
    "                env.observation_space.low[2], -radians(50)]     #   environment state that range from (-inf, inf)\n",
    "upper_bounds = [env.observation_space.high[0], 0.25,            # You must choose such bounds manually\n",
    "                env.observation_space.high[2], radians(50)]"
   ]
  },
  {
   "cell_type": "code",
   "execution_count": 141,
   "id": "7d9192ca-a14e-4427-ae82-9f710f49d1c6",
   "metadata": {},
   "outputs": [],
   "source": [
    "# Supplemental Methods\n",
    "# Discretization method\n",
    "#   Takes in an array of continuous values representing the game state\n",
    "#   and selects a bin for each value to be used in indexing the Q-Table\n",
    "def discretizer(cart_position, cart_velocity, angle, pole_velocity):\n",
    "    # This automatically determines the bin sizes and locations\n",
    "    est = KBinsDiscretizer(n_bins=n_bins, encode='ordinal', strategy='uniform')\n",
    "    est.fit([lower_bounds, upper_bounds])\n",
    "    return tuple(map(int,est.transform([[cart_position, cart_velocity, angle, pole_velocity]])[0]))\n",
    " \n",
    "# Policy (how the AI chooses an action each iteration)\n",
    "def policy(state):\n",
    "    # Here, the robot uses a greedy strategy to select the best action it knows at the given moment\n",
    "    return np.argmax(Q_table[state])\n",
    " \n",
    "# Modulate the AI's 'curiosity' over time\n",
    "def exploration_rate(n, min_rate = 0.05):\n",
    "    return max(min_rate, min(1, 1.0 - log10((n + 1) / exploration_coeff)))\n",
    " \n",
    "# Modulate the AI's willingness to learn over time\n",
    "def learning_rate(n, min_rate = 0.01):\n",
    "    return max(min_rate, min(1.0, 1.0 - log10((n + 1) / learning_coeff)))\n",
    " \n",
    "# Q-value maths\n",
    "def new_Q_value(reward, new_state, discount_factor = 1):\n",
    "    future_optimal_value = np.max(Q_table[new_state])\n",
    "    learned_value = reward + discount_factor * future_optimal_value\n",
    "    return learned_value"
   ]
  },
  {
   "cell_type": "code",
   "execution_count": 142,
   "id": "10040687-9ad4-48c0-a0c9-244af352e670",
   "metadata": {},
   "outputs": [
    {
     "name": "stdout",
     "output_type": "stream",
     "text": [
      "Writing video for iteration 0...\n",
      "Total reward amassed during run 0: 24.0\n",
      "Total reward amassed during run 100: 11.0\n",
      "Total reward amassed during run 200: 16.0\n",
      "Total reward amassed during run 300: 52.0\n",
      "Total reward amassed during run 400: 47.0\n",
      "Writing video for iteration 500...\n",
      "Total reward amassed during run 500: 77.0\n",
      "Total reward amassed during run 600: 67.0\n",
      "Total reward amassed during run 700: 130.0\n",
      "Total reward amassed during run 800: 121.0\n",
      "Total reward amassed during run 900: 34.0\n",
      "Writing video for iteration 1000...\n",
      "Total reward amassed during run 1000: 351.0\n"
     ]
    }
   ],
   "source": [
    "# Q-table initialization (all zeros across all bins)\n",
    "Q_table = np.zeros(n_bins + (env.action_space.n,))\n",
    " \n",
    "# Start timer to record training time (training only, not video export)\n",
    "totalTime = 0\n",
    " \n",
    "# Game loop\n",
    "for i in range(n_episodes):\n",
    "    # Reset environment for fresh run\n",
    "    observation, info = env.reset()\n",
    "    current_state, terminated, truncated = discretizer(*observation), False, False\n",
    " \n",
    "    # Stat tracking\n",
    "    total_reward_this_run = 0\n",
    " \n",
    "    # Set up recording every capture interval\n",
    "    out_video = None\n",
    "    if i % capture_interval == 0:\n",
    "        height, width, _ = env.render().shape\n",
    "        out_video = cv2.VideoWriter(\n",
    "            f\"cartpole_iter_{i}.avi\", \n",
    "            cv2.VideoWriter_fourcc(*'XVID'), \n",
    "            60, \n",
    "            (width, height))\n",
    " \n",
    "    while not terminated and not truncated:\n",
    "        # Start stopwatch for this iteration\n",
    "        startTime = time.time()\n",
    " \n",
    "        # Policy action\n",
    "        action = policy(current_state)\n",
    "        # Insert random action\n",
    "        if np.random.random() < exploration_rate(i):\n",
    "            action = env.action_space.sample()\n",
    "        \n",
    "        # Increment environment\n",
    "        observation, reward, terminated, truncated, info = env.step(action)\n",
    "        new_state = discretizer(*observation)\n",
    " \n",
    "        # Update Q-table\n",
    "        lr = learning_rate(i)\n",
    "        learnt_value = new_Q_value(reward, new_state)\n",
    "        old_value = Q_table[current_state][action]\n",
    "        Q_table[current_state][action] = (1-lr)*old_value + lr*learnt_value\n",
    " \n",
    "        # Update state\n",
    "        current_state = new_state\n",
    " \n",
    "        # Stats update\n",
    "        total_reward_this_run += reward # max reward in this simulation is 1\n",
    " \n",
    "        # Add training time for this iteration to accumulator\n",
    "        endTime = time.time()\n",
    "        totalTime += endTime - startTime\n",
    " \n",
    "        # Render environment\n",
    "        if i % capture_interval == 0:\n",
    "            out_video.write(env.render())\n",
    "    \n",
    "    # Export video\n",
    "    if i % capture_interval == 0:\n",
    "        print(f\"Writing video for iteration {i}...\")\n",
    "        out_video.release()\n",
    "    \n",
    "    # Debug output\n",
    "    if i % reward_update_interval == 0:\n",
    "        print(f\"Total reward amassed during run {i}: {total_reward_this_run}\")\n",
    " \n",
    "    # Update graph data\n",
    "    graph_y[i] = total_reward_this_run\n"
   ]
  },
  {
   "cell_type": "code",
   "execution_count": 143,
   "id": "2c155fbc-e45c-4c5a-ab45-01c31d6575d7",
   "metadata": {},
   "outputs": [
    {
     "data": {
      "image/png": "[encoded data removed]",
      "text/plain": [
       "<Figure size 432x288 with 1 Axes>"
      ]
     },
     "metadata": {
      "needs_background": "light"
     },
     "output_type": "display_data"
    },
    {
     "name": "stdout",
     "output_type": "stream",
     "text": [
      "\n",
      "Total training time: 0:25\n"
     ]
    }
   ],
   "source": [
    "# Display graph of reward\n",
    "plt.title(\"Reward over time\")\n",
    "plt.xlabel = \"Attempt\"\n",
    "plt.ylabel = \"Reward\"\n",
    "plt.plot(graph_x, graph_y, \n",
    "         color=\"blue\", linestyle='', \n",
    "         marker='o', alpha=0.05, \n",
    "         label=\"Iter. Reward\")\n",
    "plt.plot(graph_x, Series(graph_y).rolling(100).mean().tolist(), \n",
    "         color=\"red\", label=\"Rolling avg. (100 iter.)\")\n",
    "plt.show()\n",
    " \n",
    "trainM, trainS = map(int,divmod(totalTime, 60))\n",
    "print(f\"\\nTotal training time: {trainM}:{trainS:02}\")\n",
    "        \n",
    "env.close()"
   ]
  },
  {
   "cell_type": "code",
   "execution_count": 123,
   "id": "8c61059f-d7b2-458a-b8d6-75c0cc4fbac1",
   "metadata": {},
   "outputs": [
    {
     "data": {
      "text/html": [
       "<video src=\"cartpole_iter_1000.avi\" controls  >\n",
       "      Your browser does not support the <code>video</code> element.\n",
       "    </video>"
      ],
      "text/plain": [
       "<IPython.core.display.Video object>"
      ]
     },
     "execution_count": 123,
     "metadata": {},
     "output_type": "execute_result"
    }
   ],
   "source": [
    "from IPython.display import Video\n",
    "Video(\"cartpole_iter_1000.avi\")"
   ]
  },
  {
   "cell_type": "code",
   "execution_count": null,
   "id": "7fe57abc-8836-456f-987a-dba6aa92218a",
   "metadata": {},
   "outputs": [],
   "source": []
  }
 ],
 "metadata": {
  "kernelspec": {
   "display_name": "Python 3 (ipykernel)",
   "language": "python",
   "name": "python3"
  },
  "language_info": {
   "codemirror_mode": {
    "name": "ipython",
    "version": 3
   },
   "file_extension": ".py",
   "mimetype": "text/x-python",
   "name": "python",
   "nbconvert_exporter": "python",
   "pygments_lexer": "ipython3",
   "version": "3.9.13"
  }
 },
 "nbformat": 4,
 "nbformat_minor": 5
}
