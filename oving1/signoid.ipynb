{
 "cells": [
  {
   "cell_type": "code",
   "execution_count": 26,
   "id": "72c36714-7a34-48a5-bccb-0f748f9362b5",
   "metadata": {
    "execution": {
     "iopub.execute_input": "2022-08-28T15:00:50.531270Z",
     "iopub.status.busy": "2022-08-28T15:00:50.530747Z",
     "iopub.status.idle": "2022-08-28T15:00:50.538996Z",
     "shell.execute_reply": "2022-08-28T15:00:50.538432Z",
     "shell.execute_reply.started": "2022-08-28T15:00:50.531239Z"
    }
   },
   "outputs": [],
   "source": [
    "import torch\n",
    "import pandas as pd\n",
    "import matplotlib.pyplot as plt\n",
    "\n",
    "train = pd.read_csv('resources/day_head_circumference.csv', dtype='float')\n",
    "train_y = train.pop('head circumference')\n",
    "\n",
    "train_x = torch.tensor(train.to_numpy(), dtype=torch.float)\n",
    "train_y = torch.tensor(train_y.to_numpy(), dtype=torch.float).reshape(-1,1)"
   ]
  },
  {
   "cell_type": "code",
   "execution_count": 27,
   "id": "da4b9b65-e1f5-4b18-9098-e459c6f9218b",
   "metadata": {
    "execution": {
     "iopub.execute_input": "2022-08-28T15:00:50.540809Z",
     "iopub.status.busy": "2022-08-28T15:00:50.540314Z",
     "iopub.status.idle": "2022-08-28T15:00:50.545206Z",
     "shell.execute_reply": "2022-08-28T15:00:50.544670Z",
     "shell.execute_reply.started": "2022-08-28T15:00:50.540785Z"
    }
   },
   "outputs": [],
   "source": [
    "class NonLinearRegressionModel:\n",
    "    def __init__(self, max):\n",
    "        self.max = max\n",
    "        self.W = torch.tensor([[0.0]], requires_grad=True)\n",
    "        self.b = torch.tensor([[0.0]], requires_grad=True)\n",
    "        \n",
    "    def f(self, x):\n",
    "        return 20 * torch.sigmoid((x @ self.W + self.b)) + 31\n",
    "\n",
    "    def loss(self, x, y):\n",
    "        return torch.nn.functional.mse_loss(self.f(x), y)"
   ]
  },
  {
   "cell_type": "code",
   "execution_count": 28,
   "id": "5a527d69-a96f-4200-ba6a-9b1fd75035e5",
   "metadata": {
    "execution": {
     "iopub.execute_input": "2022-08-28T15:00:50.546549Z",
     "iopub.status.busy": "2022-08-28T15:00:50.545904Z",
     "iopub.status.idle": "2022-08-28T15:01:16.320461Z",
     "shell.execute_reply": "2022-08-28T15:01:16.319451Z",
     "shell.execute_reply.started": "2022-08-28T15:00:50.546521Z"
    }
   },
   "outputs": [
    {
     "name": "stdout",
     "output_type": "stream",
     "text": [
      "loss: 20.041433\n",
      "loss: 3.306681\n",
      "loss: 3.144880\n",
      "loss: 3.090880\n",
      "loss: 3.041270\n",
      "loss: 2.995711\n",
      "loss: 2.953861\n",
      "loss: 2.915443\n",
      "loss: 2.880194\n",
      "loss: 2.847775\n",
      "W = tensor([[0.0025]], requires_grad=True), b = tensor([[-0.1177]], requires_grad=True), loss = tensor(2.6798, grad_fn=<MseLossBackward0>)\n"
     ]
    }
   ],
   "source": [
    "model = NonLinearRegressionModel(train.shape[0])\n",
    "\n",
    "optimizer = torch.optim.SGD([model.W,model.b], 0.000001)\n",
    "for epoch in range(100000):\n",
    "    model.loss(train_x, train_y).backward() \n",
    "    optimizer.step() \n",
    "\n",
    "    optimizer.zero_grad()\n",
    "    if epoch % 10000 == 0:\n",
    "            loss, current = model.loss(train_x, train_y).item(), epoch * len(train_x)\n",
    "            print(f\"loss: {loss:>7f}\")\n",
    "\n",
    "print(\"W = %s, b = %s, loss = %s\" %(model.W, model.b, model.loss(train_x, train_y)))"
   ]
  },
  {
   "cell_type": "code",
   "execution_count": 29,
   "id": "8e5c2cb2-e843-4547-b268-6149b5935f99",
   "metadata": {
    "execution": {
     "iopub.execute_input": "2022-08-28T15:01:16.322371Z",
     "iopub.status.busy": "2022-08-28T15:01:16.321570Z",
     "iopub.status.idle": "2022-08-28T15:01:16.503401Z",
     "shell.execute_reply": "2022-08-28T15:01:16.502490Z",
     "shell.execute_reply.started": "2022-08-28T15:01:16.322344Z"
    }
   },
   "outputs": [
    {
     "data": {
      "image/png": "[encoded data removed]",
      "text/plain": [
       "<Figure size 432x288 with 1 Axes>"
      ]
     },
     "metadata": {
      "needs_background": "light"
     },
     "output_type": "display_data"
    }
   ],
   "source": [
    "plt.figure('Nonlinear regression 2d')\n",
    "plt.title('Predict head circumference based on age')\n",
    "plt.xlabel('x')\n",
    "plt.ylabel('y')\n",
    "plt.scatter(train_x, train_y)\n",
    "x = torch.arange(torch.min(train_x), torch.max(train_x), 1.0).reshape(-1, 1)\n",
    "y = model.f(x).detach()\n",
    "plt.plot(x, y, color='orange',\n",
    "         label='$f(x) = 20\\sigma(xW + b) + 31$ \\n$\\sigma(z) = \\dfrac{1}{1+e^{-z}}$')\n",
    "\n",
    "plt.legend()\n",
    "plt.show()"
   ]
  },
  {
   "cell_type": "code",
   "execution_count": null,
   "id": "ee21c344-e86b-467c-9aae-8655c76ae8cd",
   "metadata": {},
   "outputs": [],
   "source": []
  }
 ],
 "metadata": {
  "kernelspec": {
   "display_name": "Python 3 (ipykernel)",
   "language": "python",
   "name": "python3"
  },
  "language_info": {
   "codemirror_mode": {
    "name": "ipython",
    "version": 3
   },
   "file_extension": ".py",
   "mimetype": "text/x-python",
   "name": "python",
   "nbconvert_exporter": "python",
   "pygments_lexer": "ipython3",
   "version": "3.9.13"
  }
 },
 "nbformat": 4,
 "nbformat_minor": 5
}
