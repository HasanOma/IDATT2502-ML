{
 "cells": [
  {
   "cell_type": "code",
   "execution_count": 47,
   "id": "a4fa34cb-6e64-41ec-8b25-865911a74ed9",
   "metadata": {
    "execution": {
     "iopub.execute_input": "2022-09-18T12:03:13.470013Z",
     "iopub.status.busy": "2022-09-18T12:03:13.469354Z",
     "iopub.status.idle": "2022-09-18T12:03:13.476061Z",
     "shell.execute_reply": "2022-09-18T12:03:13.475684Z",
     "shell.execute_reply.started": "2022-09-18T12:03:13.470011Z"
    }
   },
   "outputs": [],
   "source": [
    "import torch\n",
    "import torch.nn as nn\n",
    "import numpy as np\n",
    "\n",
    "char_encodings = [\n",
    "    [1., 0., 0., 0., 0., 0., 0., 0.],  # ' '\n",
    "    [0., 1., 0., 0., 0., 0., 0., 0.],  # 'h'\n",
    "    [0., 0., 1., 0., 0., 0., 0., 0.],  # 'e'\n",
    "    [0., 0., 0., 1., 0., 0., 0., 0.],  # 'l'\n",
    "    [0., 0., 0., 0., 1., 0., 0., 0.],  # 'o'\n",
    "    [0., 0., 0., 0., 0., 1., 0., 0.],  # 'w'\n",
    "    [0., 0., 0., 0., 0., 0., 1., 0.],  # 'r'\n",
    "    [0., 0., 0., 0., 0., 0., 0., 1.],  # 'd'\n",
    "]\n",
    "encoding_size = len(char_encodings)\n",
    "\n",
    "index_to_char = [' ', 'h', 'e', 'l', 'o', 'w', 'r', 'd']\n",
    "\n",
    "x_train = torch.tensor([[char_encodings[0]], [char_encodings[1]], [char_encodings[2]], [char_encodings[3]], [char_encodings[3]],\n",
    "                        [char_encodings[4]], [char_encodings[0]], [char_encodings[5]], [char_encodings[4]], [char_encodings[6]], [char_encodings[3]], [char_encodings[7]]], dtype=torch.float)  # ' hello world'\n",
    "y_train = torch.tensor([char_encodings[1], char_encodings[2], char_encodings[3], char_encodings[3], char_encodings[4], char_encodings[0], char_encodings[5], char_encodings[4], char_encodings[6], char_encodings[3], char_encodings[7], char_encodings[0]], dtype=torch.float)  # 'hello world'\n"
   ]
  },
  {
   "cell_type": "code",
   "execution_count": 48,
   "id": "bf666aac-2785-47f7-921f-df52f03dee5b",
   "metadata": {
    "execution": {
     "iopub.execute_input": "2022-09-18T12:03:15.693070Z",
     "iopub.status.busy": "2022-09-18T12:03:15.692427Z",
     "iopub.status.idle": "2022-09-18T12:03:15.697481Z",
     "shell.execute_reply": "2022-09-18T12:03:15.697094Z",
     "shell.execute_reply.started": "2022-09-18T12:03:15.693048Z"
    }
   },
   "outputs": [],
   "source": [
    "class LongShortTermMemoryModel(nn.Module):\n",
    "\n",
    "    def __init__(self, encoding_size):\n",
    "        super(LongShortTermMemoryModel, self).__init__()\n",
    "\n",
    "        self.lstm = nn.LSTM(encoding_size, 128)  # 128 is the state size\n",
    "        self.dense = nn.Linear(128, encoding_size)  # 128 is the state size\n",
    "\n",
    "    def reset(self):  # Reset states prior to new input sequence\n",
    "        zero_state = torch.zeros(1, 1, 128)  # Shape: (number of layers, batch size, state size)\n",
    "        self.hidden_state = zero_state\n",
    "        self.cell_state = zero_state\n",
    "\n",
    "    def logits(self, x):  # x shape: (sequence length, batch size, encoding size)\n",
    "        out, (self.hidden_state, self.cell_state) = self.lstm(x, (self.hidden_state, self.cell_state))\n",
    "        return self.dense(out.reshape(-1, 128))\n",
    "\n",
    "    def f(self, x):  # x shape: (sequence length, batch size, encoding size)\n",
    "        return torch.softmax(self.logits(x), dim=1)\n",
    "\n",
    "    def loss(self, x, y):  # x shape: (sequence length, batch size, encoding size), y shape: (sequence length, encoding size)\n",
    "        return nn.functional.cross_entropy(self.logits(x), y.argmax(1))\n"
   ]
  },
  {
   "cell_type": "code",
   "execution_count": 51,
   "id": "f05ab253-8f7d-493c-8f83-fb23849ac874",
   "metadata": {
    "execution": {
     "iopub.execute_input": "2022-09-18T12:04:15.336413Z",
     "iopub.status.busy": "2022-09-18T12:04:15.336133Z",
     "iopub.status.idle": "2022-09-18T12:04:17.305650Z",
     "shell.execute_reply": "2022-09-18T12:04:17.305161Z",
     "shell.execute_reply.started": "2022-09-18T12:04:15.336393Z"
    }
   },
   "outputs": [
    {
     "name": "stdout",
     "output_type": "stream",
     "text": [
      " hlllooo     \n",
      " hlllo rld   \n",
      " hlllo orld  \n",
      " hello world \n",
      " hello world \n",
      " hello world \n",
      " hello world \n",
      " hello world \n",
      " hello world \n",
      " hello world \n",
      " hello world \n",
      " hello world \n",
      " hello world \n",
      " hello world \n",
      " hello world \n",
      " hello world \n",
      " hello world \n",
      " hello world \n",
      " hello world \n",
      " hello world \n",
      " hello world \n",
      " hello world \n",
      " hello world \n",
      " hello world \n",
      " hello world \n",
      " hello world \n",
      " hello world \n",
      " hello world \n",
      " hello world \n",
      " hello world \n",
      " hello world \n",
      " hello world \n",
      " hello world \n",
      " hello world \n",
      " hello world \n",
      " hello world \n",
      " hello world \n",
      " hello world \n",
      " hello world \n",
      " hello world \n",
      " hello world \n",
      " hello world \n",
      " hello world \n",
      " hello world \n",
      " hello world \n",
      " hello world \n",
      " hello world \n",
      " hello world \n",
      " hello world \n",
      " hello world \n"
     ]
    }
   ],
   "source": [
    "model = LongShortTermMemoryModel(encoding_size)\n",
    "\n",
    "optimizer = torch.optim.RMSprop(model.parameters(), 0.001)\n",
    "for epoch in range(500):\n",
    "    model.reset()\n",
    "    model.loss(x_train, y_train).backward()\n",
    "    optimizer.step()\n",
    "    optimizer.zero_grad()\n",
    "\n",
    "    if epoch % 10 == 9:\n",
    "        # Generate characters from the initial characters ' h'\n",
    "        model.reset()\n",
    "        text = ' h'\n",
    "        model.f(torch.tensor([[char_encodings[0]]], dtype=torch.float))\n",
    "        y = model.f(torch.tensor([[char_encodings[1]]], dtype=torch.float))\n",
    "        text += index_to_char[y.argmax(1)]\n",
    "        for c in range(10):\n",
    "            y = model.f(torch.tensor([[char_encodings[y.argmax(1)]]],dtype=torch.float))\n",
    "            text += index_to_char[y.argmax(1)]\n",
    "        print(text)"
   ]
  },
  {
   "cell_type": "code",
   "execution_count": 52,
   "id": "3a3dc218-8cba-4ff9-a042-29c234bffaa9",
   "metadata": {
    "execution": {
     "iopub.execute_input": "2022-09-18T12:05:16.436225Z",
     "iopub.status.busy": "2022-09-18T12:05:16.435962Z",
     "iopub.status.idle": "2022-09-18T12:05:16.451898Z",
     "shell.execute_reply": "2022-09-18T12:05:16.451464Z",
     "shell.execute_reply.started": "2022-09-18T12:05:16.436205Z"
    }
   },
   "outputs": [
    {
     "name": "stdout",
     "output_type": "stream",
     "text": [
      " hello world world world world world world world worl\n"
     ]
    }
   ],
   "source": [
    "text = ' h'\n",
    "model.reset()\n",
    "model.f(torch.tensor([[char_encodings[0]]], dtype=torch.float))\n",
    "y = model.f(torch.tensor([[char_encodings[1]]], dtype=torch.float))\n",
    "text += index_to_char[y.argmax(1)]\n",
    "for c in range(50):\n",
    "    y = model.f(torch.tensor([[char_encodings[y.argmax(1)]]],dtype=torch.float))\n",
    "    text += index_to_char[y.argmax(1)]\n",
    "print(text)"
   ]
  }
 ],
 "metadata": {
  "kernelspec": {
   "display_name": "Python 3 (ipykernel)",
   "language": "python",
   "name": "python3"
  },
  "language_info": {
   "codemirror_mode": {
    "name": "ipython",
    "version": 3
   },
   "file_extension": ".py",
   "mimetype": "text/x-python",
   "name": "python",
   "nbconvert_exporter": "python",
   "pygments_lexer": "ipython3",
   "version": "3.9.13"
  }
 },
 "nbformat": 4,
 "nbformat_minor": 5
}
