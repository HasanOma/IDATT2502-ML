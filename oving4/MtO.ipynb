{
 "cells": [
  {
   "cell_type": "code",
   "execution_count": 19,
   "id": "36c4e712-c4cd-45fe-bacb-8b79ffb64121",
   "metadata": {
    "execution": {
     "iopub.execute_input": "2022-09-18T12:18:54.281944Z",
     "iopub.status.busy": "2022-09-18T12:18:54.281306Z",
     "iopub.status.idle": "2022-09-18T12:18:54.292344Z",
     "shell.execute_reply": "2022-09-18T12:18:54.291868Z",
     "shell.execute_reply.started": "2022-09-18T12:18:54.281921Z"
    }
   },
   "outputs": [],
   "source": [
    "import torch\n",
    "import numpy as np\n",
    "import torch.nn as nn\n",
    "\n",
    "emojis = {\n",
    "    'hat': '\\U0001F3A9',\n",
    "    'rat': '\\U0001F400',\n",
    "    'cat': '\\U0001F408',\n",
    "    'flat': '\\U0001F3E2',\n",
    "    'matt': '\\U0001F468',\n",
    "    'cap': '\\U0001F9E2',\n",
    "    'son': '\\U0001F466'\n",
    "}\n",
    "\n",
    "\n",
    "index_to_emoji =[value for _,value in emojis.items()]\n",
    "\n",
    "index_to_char = [' ', 'h', 'a', 't', 'r','c', 'f', 'l', 'm', 'p', 's', 'o', 'n']\n",
    "\n",
    "char_encodings = [\n",
    "    [1., 0., 0., 0., 0., 0., 0., 0., 0., 0., 0., 0., 0.],  # ' '\n",
    "    [0., 1., 0., 0., 0., 0., 0., 0., 0., 0., 0., 0., 0.],  # 'h'\n",
    "    [0., 0., 1., 0., 0., 0., 0., 0., 0., 0., 0., 0., 0.],  # 'a'\n",
    "    [0., 0., 0., 1., 0., 0., 0., 0., 0., 0., 0., 0., 0.],  # 't'\n",
    "    [0., 0., 0., 0., 1., 0., 0., 0., 0., 0., 0., 0., 0.],  # 'r'\n",
    "    [0., 0., 0., 0., 0., 1., 0., 0., 0., 0., 0., 0., 0.],  # 'c'\n",
    "    [0., 0., 0., 0., 0., 0., 1., 0., 0., 0., 0., 0., 0.],  # 'f'\n",
    "    [0., 0., 0., 0., 0., 0., 0., 1., 0., 0., 0., 0., 0.],  # 'l'\n",
    "    [0., 0., 0., 0., 0., 0., 0., 0., 1., 0., 0., 0., 0.],  # 'm'\n",
    "    [0., 0., 0., 0., 0., 0., 0., 0., 0., 1., 0., 0., 0.],  # 'p'\n",
    "    [0., 0., 0., 0., 0., 0., 0., 0., 0., 0., 1., 0., 0.],  # 's'\n",
    "    [0., 0., 0., 0., 0., 0., 0., 0., 0., 0., 0., 1., 0.],  # 'o'\n",
    "    [0., 0., 0., 0., 0., 0., 0., 0., 0., 0., 0., 0., 1.],  # 'n'\n",
    "]\n",
    "\n",
    "\n",
    "encoding_size = len(char_encodings)\n",
    "emojies = np.eye(len(emojis))\n",
    "emoji_encoding_size=len(emojies)\n",
    "\n",
    "letters ={}\n",
    "\n",
    "for i, letter in enumerate(index_to_char):\n",
    "        letters[letter] = char_encodings[i]\n",
    "\n",
    "\n",
    "x_train = torch.tensor([\n",
    "        [[letters['h']], [letters['a']], [letters['t']], [letters[' ']]],\n",
    "        [[letters['r']], [letters['a']], [letters['t']], [letters[' ']]],\n",
    "        [[letters['c']], [letters['a']], [letters['t']], [letters[' ']]],\n",
    "        [[letters['f']], [letters['l']], [letters['a']], [letters['t']]],\n",
    "        [[letters['m']], [letters['a']], [letters['t']], [letters['t']]],\n",
    "        [[letters['c']], [letters['a']], [letters['p']], [letters[' ']]],\n",
    "        [[letters['s']], [letters['o']], [letters['n']], [letters[' ']]],\n",
    "        ], \n",
    "        dtype=torch.float)\n",
    "\n",
    "\n",
    "y_train = torch.tensor([\n",
    "        [emojies[0], emojies[0], emojies[0], emojies[0]] ,\n",
    "        [emojies[1], emojies[1], emojies[1], emojies[1]],\n",
    "        [emojies[2], emojies[2], emojies[2], emojies[2]],\n",
    "        [emojies[3], emojies[3], emojies[3], emojies[3]],\n",
    "        [emojies[4], emojies[4], emojies[4], emojies[4]],\n",
    "        [emojies[5], emojies[5], emojies[5], emojies[5]],\n",
    "        [emojies[6], emojies[6], emojies[6], emojies[6]]], \n",
    "        dtype=torch.float)\n"
   ]
  },
  {
   "cell_type": "code",
   "execution_count": 20,
   "id": "55f07d22-4770-49e0-99bf-822a402f6173",
   "metadata": {
    "execution": {
     "iopub.execute_input": "2022-09-18T12:18:57.453993Z",
     "iopub.status.busy": "2022-09-18T12:18:57.453334Z",
     "iopub.status.idle": "2022-09-18T12:18:57.458622Z",
     "shell.execute_reply": "2022-09-18T12:18:57.458192Z",
     "shell.execute_reply.started": "2022-09-18T12:18:57.453969Z"
    }
   },
   "outputs": [],
   "source": [
    "class LongShortTermMemoryModel(nn.Module):\n",
    "    def __init__(self, encoding_size, emoji_encoding_size):\n",
    "        super(LongShortTermMemoryModel, self).__init__()\n",
    "        self.lstm = nn.LSTM(encoding_size, 128)  # 128 is the state size\n",
    "        self.dense = nn.Linear(128, emoji_encoding_size)  # 128 is the state size\n",
    "\n",
    "    def reset(self):  # Reset states prior to new input sequence\n",
    "        zero_state = torch.zeros(1, 1, 128)  # Shape: (number of layers, batch size, state size)\n",
    "        self.hidden_state = zero_state\n",
    "        self.cell_state = zero_state\n",
    "\n",
    "    def logits(self, x):  # x shape: (sequence length, batch size, encoding size)\n",
    "        out, (self.hidden_state, self.cell_state) = self.lstm(x, (self.hidden_state, self.cell_state))\n",
    "        return self.dense(out.reshape(-1, 128))\n",
    "\n",
    "    def f(self, x):  # x shape: (sequence length, batch size, encoding size)\n",
    "        return torch.softmax(self.logits(x), dim=1)\n",
    "\n",
    "    def loss(self, x, y):  # x shape: (sequence length, batch size, encoding size), y shape: (sequence length, encoding size)\n",
    "        return nn.functional.cross_entropy(self.logits(x), y.argmax(1))"
   ]
  },
  {
   "cell_type": "code",
   "execution_count": 21,
   "id": "f1a3a173-d3e6-4875-86b8-320143a8ff07",
   "metadata": {
    "execution": {
     "iopub.execute_input": "2022-09-18T12:18:59.562836Z",
     "iopub.status.busy": "2022-09-18T12:18:59.562127Z",
     "iopub.status.idle": "2022-09-18T12:19:06.074694Z",
     "shell.execute_reply": "2022-09-18T12:19:06.046703Z",
     "shell.execute_reply.started": "2022-09-18T12:18:59.562812Z"
    }
   },
   "outputs": [],
   "source": [
    "model = LongShortTermMemoryModel(encoding_size, emoji_encoding_size)\n",
    "\n",
    "optimizer = torch.optim.RMSprop(model.parameters(), 0.001)  # 0.001\n",
    "for epoch in range(500):\n",
    "    for i in range(x_train.size()[0]):\n",
    "        model.reset()\n",
    "        model.loss(x_train[i], y_train[i]).backward()\n",
    "        optimizer.step()\n",
    "        optimizer.zero_grad()"
   ]
  },
  {
   "cell_type": "code",
   "execution_count": 25,
   "id": "0603b316-0316-4222-9cb6-e66d3b05bf33",
   "metadata": {
    "execution": {
     "iopub.execute_input": "2022-09-18T12:19:15.191647Z",
     "iopub.status.busy": "2022-09-18T12:19:15.191358Z",
     "iopub.status.idle": "2022-09-18T12:19:15.201780Z",
     "shell.execute_reply": "2022-09-18T12:19:15.201271Z",
     "shell.execute_reply.started": "2022-09-18T12:19:15.191627Z"
    }
   },
   "outputs": [
    {
     "name": "stdout",
     "output_type": "stream",
     "text": [
      "🐀\n",
      "🐀\n",
      "👨\n",
      "👦\n",
      "🧢\n",
      "🐈\n"
     ]
    }
   ],
   "source": [
    "def find_emoji(string):\n",
    "    y = -1\n",
    "    model.reset()\n",
    "    for i in range(len(string)):\n",
    "        char_index = index_to_char.index(string[i])\n",
    "        y = model.f(torch.tensor([[char_encodings[char_index]]], dtype=torch.float))\n",
    "    print(index_to_emoji[y.argmax(1)])\n",
    "\n",
    "find_emoji('rt')\n",
    "find_emoji('rats')\n",
    "find_emoji('mt')\n",
    "find_emoji('sn')\n",
    "find_emoji('cp')\n",
    "find_emoji('cat')"
   ]
  }
 ],
 "metadata": {
  "kernelspec": {
   "display_name": "Python 3 (ipykernel)",
   "language": "python",
   "name": "python3"
  },
  "language_info": {
   "codemirror_mode": {
    "name": "ipython",
    "version": 3
   },
   "file_extension": ".py",
   "mimetype": "text/x-python",
   "name": "python",
   "nbconvert_exporter": "python",
   "pygments_lexer": "ipython3",
   "version": "3.9.13"
  }
 },
 "nbformat": 4,
 "nbformat_minor": 5
}
