{
 "cells": [
  {
   "cell_type": "code",
   "execution_count": 1,
   "id": "4b6e592e-a8d0-4bea-924d-008e803af59b",
   "metadata": {},
   "outputs": [],
   "source": [
    "from sklearn import decomposition\n",
    "from sklearn.feature_selection import SelectKBest\n",
    "from sklearn.feature_selection import chi2\n",
    "import pandas as pd"
   ]
  },
  {
   "cell_type": "code",
   "execution_count": 40,
   "id": "8fbf5343-9d5e-4bd1-b1ca-c37d9a0354ee",
   "metadata": {},
   "outputs": [],
   "source": [
    "data = pd.read_csv('./agaricus-lepiota.data')\n",
    "dummies = pd.get_dummies(data) #Convert categorical variable into dummy/indicator variables.\n",
    "x, y = pd.get_dummies(data), pd.get_dummies(data['edibility'])"
   ]
  },
  {
   "cell_type": "code",
   "execution_count": 41,
   "id": "b1c8aaf8-da1c-4b24-9ea9-f2b1ea2a9ca7",
   "metadata": {},
   "outputs": [
    {
     "name": "stdout",
     "output_type": "stream",
     "text": [
      "X shape: (8124, 119)\n",
      "y shape: (8124, 2)\n",
      "skb shape: (8124, 10)\n",
      "Selected features: edibility_e, edibility_p, odor_f, odor_n, gill-size_n, gill-color_b, stalk-surface-above-ring_k, stalk-surface-below-ring_k, ring-type_l, spore-print-color_h\n"
     ]
    }
   ],
   "source": [
    "print(\"X shape:\", x.shape)\n",
    "print(\"y shape:\", y.shape)\n",
    "\n",
    "skb = SelectKBest(chi2, k=10) # Select features according to the k highest scores. Chi-squared stats of non-negative features for classification tasks. \n",
    "x_new = skb.fit_transform(x, y) # Fit to data, then transform it. Fits transformer to X and y with optional parameters fit_params and returns a transformed version of X.\n",
    "\n",
    "\n",
    "print(\"skb shape:\", x_new.shape)\n",
    "\n",
    "selected = [dummies.columns[i] for i in skb.get_support(indices=True)]\n",
    "print(\"Selected features:\", \", \".join(selected))"
   ]
  },
  {
   "cell_type": "code",
   "execution_count": 42,
   "id": "21c5da96-ea05-4bcd-96af-0c482b0ac3b1",
   "metadata": {},
   "outputs": [
    {
     "name": "stdout",
     "output_type": "stream",
     "text": [
      "Original space: (8124, 119)\n",
      "PCA space: 10\n",
      "10\n",
      "Features in which gives max variance: edibility_p, stalk-root_b, habitat_g, stalk-shape_t, odor_n, cap-shape_f, cap-surface_s, cap-color_n, cap-surface_f, spore-print-color_k\n"
     ]
    }
   ],
   "source": [
    "print(\"Original shape:\", x.shape)\n",
    "pca = decomposition.PCA(n_components=10) # looks for a combination of features that capture well the variance of the original features.\n",
    "x_pca = pca.fit_transform(x) # Fit to data, then transform it. Fits transformer to X and y with optional parameters fit_params and returns a transformed version of X.\n",
    "\n",
    "print(\"PCA shape:\", x_pca.shape)\n",
    "best_features = [pca.components_[i].argmax() for i in range(x_pca.shape[1])]\n",
    "feature_names = [x.columns[best_features[i]] for i in range(x_pca.shape[1])]\n",
    "print(len(feature_names))\n",
    "print(\"Features in which gives max variance:\", \", \".join(feature_names))"
   ]
  },
  {
   "cell_type": "code",
   "execution_count": 39,
   "id": "186e2217-1da2-43bf-9678-9866501f415b",
   "metadata": {},
   "outputs": [
    {
     "data": {
      "text/plain": [
       "{'edibility_p', 'odor_n'}"
      ]
     },
     "execution_count": 43,
     "metadata": {},
     "output_type": "execute_result"
    }
   ],
   "source": [
    "set(selected).intersection(set(feature_names))"
   ]
  },
  {
   "cell_type": "code",
   "execution_count": null,
   "id": "32023647-297d-4531-9d62-6d4a19ed8cb0",
   "metadata": {},
   "outputs": [],
   "source": []
  }
 ],
 "metadata": {
  "kernelspec": {
   "display_name": "Python 3 (ipykernel)",
   "language": "python",
   "name": "python3"
  },
  "language_info": {
   "codemirror_mode": {
    "name": "ipython",
    "version": 3
   },
   "file_extension": ".py",
   "mimetype": "text/x-python",
   "name": "python",
   "nbconvert_exporter": "python",
   "pygments_lexer": "ipython3",
   "version": "3.9.13"
  }
 },
 "nbformat": 4,
 "nbformat_minor": 5
}
